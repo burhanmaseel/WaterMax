{
 "cells": [
  {
   "cell_type": "markdown",
   "id": "388fb329",
   "metadata": {},
   "source": []
  },
  {
   "cell_type": "code",
   "execution_count": null,
   "id": "85114758",
   "metadata": {},
   "outputs": [],
   "source": [
    "from google.colab import drive\n",
    "import sys\n",
    "import os\n",
    "\n",
    "drive.mount('/content/drive')\n",
    "\n",
    "# Assuming your Python file is in this location\n",
    "py_file_location = \"/content/drive/MyDrive/TMU Projects/WaterMax\"\n",
    "sys.path.append(os.path.abspath(py_file_location))\n",
    "\n",
    "# Change directory to WaterMax folder\n",
    "os.chdir(py_file_location)\n",
    "\n",
    "# Install required packages\n",
    "!pip install -r ./src/requirements.txt\n",
    "\n",
    "# Install Git LFS\n",
    "!git lfs install"
   ]
  },
  {
   "cell_type": "code",
   "execution_count": null,
   "id": "1874873f",
   "metadata": {},
   "outputs": [],
   "source": [
    "!git clone git@hf.co:meta-llama/Llama-2-7b-chat-hf ./src/"
   ]
  },
  {
   "cell_type": "code",
   "execution_count": null,
   "id": "104973a3",
   "metadata": {},
   "outputs": [],
   "source": [
    "from huggingface_hub import notebook_login\n",
    "\n",
    "notebook_login()"
   ]
  }
 ],
 "metadata": {
  "language_info": {
   "name": "python"
  }
 },
 "nbformat": 4,
 "nbformat_minor": 5
}
